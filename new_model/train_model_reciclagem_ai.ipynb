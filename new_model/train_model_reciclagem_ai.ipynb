{
  "cells": [
    {
      "cell_type": "code",
      "execution_count": null,
      "metadata": {
        "id": "jvlJroMkzSO-"
      },
      "outputs": [],
      "source": [
        "%%capture\n",
        "# Passo a passo para executar o treinamento\n",
        "# 1. Baixar as imagens do roboflow\n",
        "# 2. Executar o slice_images na pasta MELHORE_IMAGES\n",
        "# 3. Depois pegar o dataset e upar aqui\n",
        "# 4. Apos a instalacao do sahi, ir até o diretorio de slicing.py que fica em:/usr/local/lib/python3.11/dist-packages/sahi/slicing.py e trocar a linha 141 por isso\n",
        "# sliced_coco_annotation_list: List[CocoAnnotation] = []\n",
        "# for coco_annotation in coco_annotation_list:\n",
        "#     try:\n",
        "#         if annotation_inside_slice(coco_annotation.json, slice_bbox):\n",
        "#             sliced_coco_annotation = coco_annotation.get_sliced_coco_annotation(slice_bbox)\n",
        "#             if sliced_coco_annotation.area / coco_annotation.area >= min_area_ratio:\n",
        "#                 sliced_coco_annotation_list.append(sliced_coco_annotation)\n",
        "#     except:\n",
        "#         pass\n",
        "#         # print(\"Não divisivel por 0 \" + str(coco_annotation))\n",
        "# return sliced_coco_annotation_list\n",
        "# 5. Adicionar o arquivo data.yaml abaixo\n",
        "# train: ../train/images\n",
        "# val: ../valid/images\n",
        "# test: ../test/images\n",
        "\n",
        "# nc: 2\n",
        "# names: ['black_point', 'vigia']\n",
        "\n",
        "# roboflow:\n",
        "#   workspace: computervisionfutebol\n",
        "#   project: glass-blur\n",
        "#   version: 20\n",
        "#   license: CC BY 4.0\n",
        "#   url: https://universe.roboflow.com/computervisionfutebol/glass-blur/dataset/20\n",
        "\n",
        "\n",
        "#!pip3 install torch torchvision torchaudio --index-url https://download.pytorch.org/whl/cu118\n",
        "!pip install torch torchvision torchaudio --index-url https://download.pytorch.org/whl/cu124\n",
        "!pip install -U ultralytics\n",
        "!pip install roboflow\n",
        "\n",
        "\n",
        "\n",
        "import warnings\n",
        "import os\n",
        "import json\n",
        "import shutil\n",
        "\n",
        "\n",
        "warnings.simplefilter(\"ignore\")"
      ]
    },
    {
      "cell_type": "code",
      "execution_count": null,
      "metadata": {
        "colab": {
          "base_uri": "https://localhost:8080/",
          "height": 122
        },
        "id": "fwRb3DjaN55s",
        "outputId": "358f32bf-13e0-4853-c073-25e66a7c4b06"
      },
      "outputs": [
        {
          "name": "stdout",
          "output_type": "stream",
          "text": [
            "loading Roboflow workspace...\n",
            "loading Roboflow project...\n"
          ]
        },
        {
          "name": "stderr",
          "output_type": "stream",
          "text": [
            "Downloading Dataset Version Zip in Cardboard-Box-Detection-7 to yolov12:: 100%|██████████| 1107977/1107977 [00:13<00:00, 80136.80it/s]"
          ]
        },
        {
          "name": "stdout",
          "output_type": "stream",
          "text": [
            "\n"
          ]
        },
        {
          "name": "stderr",
          "output_type": "stream",
          "text": [
            "\n",
            "Extracting Dataset Version Zip to Cardboard-Box-Detection-7 in yolov12:: 100%|██████████| 8418/8418 [00:02<00:00, 2967.29it/s]\n"
          ]
        },
        {
          "data": {
            "application/vnd.google.colaboratory.intrinsic+json": {
              "type": "string"
            },
            "text/plain": [
              "'Cardboard-Box-Detection-7'"
            ]
          },
          "execution_count": 2,
          "metadata": {},
          "output_type": "execute_result"
        }
      ],
      "source": [
        "from roboflow import Roboflow\n",
        "rf = Roboflow(api_key=\"T2pa1zR5aO10PH2kjkgu\")\n",
        "project = rf.workspace(\"computervisionfutebol\").project(\"cardboard-box-detection-mozxg\")\n",
        "version = project.version(7)\n",
        "dataset = version.download(\"yolov12\")\n",
        "\n",
        "\n",
        "dataset_version = version.name.replace(\" \", \"-\") + \"-\" + version.version\n",
        "dataset_version\n"
      ]
    },
    {
      "cell_type": "code",
      "execution_count": null,
      "metadata": {
        "id": "zctUnO_14KG8"
      },
      "outputs": [],
      "source": [
        "#%%writefile {dataset_version}/data.yaml\n",
        "# train: ../train/images\n",
        "# val: ../valid/images\n",
        "# test: ../test/images\n",
        "\n",
        "# nc: 2\n",
        "# names: [\"metragem\", \"plates\"]\n",
        "\n",
        "# roboflow:\n",
        "#   workspace: computervisionfutebol\n",
        "#   project: plates_detection\n",
        "#   version: 22\n",
        "#   license: CC BY 4.0\n",
        "#   url: https://universe.roboflow.com/computervisionfutebol/glass-blur/dataset/20\n"
      ]
    },
    {
      "cell_type": "code",
      "execution_count": null,
      "metadata": {
        "id": "y68BtqeF9d35"
      },
      "outputs": [],
      "source": [
        "# import gdown\n",
        "# file_id = \"1rQSMWMmlk38NXbGph_pAEFhLJoJ0gM12\"\n",
        "# output_file = \"dataset.rar\"\n",
        "# gdown.download(f\"https://drive.google.com/uc?id={file_id}\", output_file)"
      ]
    },
    {
      "cell_type": "markdown",
      "metadata": {
        "id": "R6IiTGVKYuzg"
      },
      "source": [
        "# TREINA O MODELO"
      ]
    },
    {
      "cell_type": "code",
      "execution_count": null,
      "metadata": {
        "id": "hJr7795FzYIZ"
      },
      "outputs": [],
      "source": [
        "from ultralytics import YOLO\n",
        "import torch\n",
        "import os\n",
        "\n",
        "os.environ['WANDB_MODE'] = 'disabled'\n",
        "os.environ['CUDA_LAUNCH_BLOCKING'] = \"1\"\n",
        "\n",
        "device = 'cuda' if torch.cuda.is_available() else 'cpu'\n",
        "#device = torch.device(\"cuda\")\n",
        "model = YOLO('yolo11s.pt').to(device)\n",
        "#model = YOLO('yolov8s-p2.yaml').load('yolov8s.pt')\n",
        "\n",
        "# Training.\n",
        "results = model.train(\n",
        "   #data='../content/DATASET/data.yaml',\n",
        "   task=\"detect\",\n",
        "   data=f'/content/{dataset_version}/data.yaml',\n",
        "   imgsz=640,\n",
        "   epochs=5,\n",
        "   batch=150,\n",
        "   seed=42,\n",
        "   exist_ok=True,\n",
        "   name='model',\n",
        "   pretrained=True\n",
        ")\n",
        "\n",
        "# Map 0.000336\n",
        "# 0.00218"
      ]
    },
    {
      "cell_type": "code",
      "execution_count": null,
      "metadata": {
        "id": "7mC0wQHI2iqB"
      },
      "outputs": [],
      "source": [
        "# import localew\n",
        "# locale.getpreferredencoding = lambda: \"UTF-8\"\n",
        "\n",
        "# !zip -r runs.zip /content/runs/"
      ]
    },
    {
      "cell_type": "code",
      "execution_count": null,
      "metadata": {
        "id": "w2StjWJcANZR"
      },
      "outputs": [],
      "source": [
        "from google.colab import files\n",
        "import locale\n",
        "locale.getpreferredencoding = lambda: \"UTF-8\"\n",
        "\n",
        "# Compactar a pasta /content/runs\n",
        "!zip -r runs.zip /content/runs/\n",
        "\n",
        "# Fazer o download do arquivo ZIP\n",
        "files.download(\"runs.zip\")"
      ]
    },
    {
      "cell_type": "code",
      "execution_count": null,
      "metadata": {
        "id": "76OjKmhwBtTn"
      },
      "outputs": [],
      "source": []
    }
  ],
  "metadata": {
    "accelerator": "GPU",
    "colab": {
      "gpuType": "A100",
      "provenance": []
    },
    "kernelspec": {
      "display_name": ".venv (3.11.7)",
      "language": "python",
      "name": "python3"
    },
    "language_info": {
      "codemirror_mode": {
        "name": "ipython",
        "version": 3
      },
      "file_extension": ".py",
      "mimetype": "text/x-python",
      "name": "python",
      "nbconvert_exporter": "python",
      "pygments_lexer": "ipython3",
      "version": "3.11.7"
    }
  },
  "nbformat": 4,
  "nbformat_minor": 0
}
